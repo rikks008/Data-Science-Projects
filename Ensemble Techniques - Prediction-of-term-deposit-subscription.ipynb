{
 "cells": [
  {
   "cell_type": "markdown",
   "metadata": {},
   "source": [
    "## Project on Ensemble Techniques\n",
    "\n",
    "                                                         "
   ]
  },
  {
   "cell_type": "markdown",
   "metadata": {},
   "source": [
    "### About dataset:\n",
    "\n",
    "The data is related with direct marketing campaigns of a\n",
    "Portuguese banking institution. The marketing campaigns\n",
    "were based on phone calls. Often, more than one contact to\n",
    "the same client was required, in order to access if the product\n",
    "(bank term deposit) would be ('yes') or not ('no') subscribed.\n"
   ]
  },
  {
   "cell_type": "markdown",
   "metadata": {},
   "source": [
    "### Domain \n",
    "Banking"
   ]
  },
  {
   "cell_type": "markdown",
   "metadata": {},
   "source": [
    "### Context:\n",
    "Leveraging customer information is paramount for most\n",
    "businesses. In the case of a bank, attributes of customers like\n",
    "the ones mentioned below can be crucial in strategizing a\n",
    "marketing campaign when launching a new product."
   ]
  },
  {
   "cell_type": "markdown",
   "metadata": {},
   "source": [
    "### Objective:\n",
    "The classification goal is to predict if the client will subscribe\n",
    "(yes/no) a term deposit (variable y)."
   ]
  },
  {
   "cell_type": "markdown",
   "metadata": {},
   "source": [
    "### Learning Outcomes:\n",
    "\n",
    "* Exploratory Data Analysis\n",
    "\n",
    "* Preparing the data to train a model\n",
    "\n",
    "* Training and making predictions using an Ensemble\n",
    "  Model\n",
    "\n",
    "* Tuning an Ensemble model"
   ]
  },
  {
   "cell_type": "markdown",
   "metadata": {},
   "source": [
    "### Import  all neccessary libraries"
   ]
  },
  {
   "cell_type": "code",
   "execution_count": 1,
   "metadata": {},
   "outputs": [],
   "source": [
    "import pandas as pd\n",
    "import seaborn as sns\n",
    "import matplotlib.pyplot as plt\n",
    "import numpy as np\n",
    "from sklearn.model_selection import train_test_split\n",
    "from sklearn.preprocessing import StandardScaler\n",
    "from sklearn.linear_model import LogisticRegression\n",
    "from sklearn.neighbors import  KNeighborsClassifier\n",
    "from sklearn.svm import SVC\n",
    "from sklearn.tree import DecisionTreeClassifier\n",
    "from sklearn.ensemble import RandomForestClassifier\n",
    "from sklearn.ensemble import BaggingClassifier\n",
    "from sklearn.ensemble import GradientBoostingClassifier\n",
    "from sklearn.ensemble import AdaBoostClassifier\n",
    "from sklearn.ensemble import VotingClassifier\n",
    "from sklearn.metrics import confusion_matrix,precision_score,classification_report,f1_score,roc_curve,roc_auc_score,auc,accuracy_score\n",
    "from sklearn import metrics\n",
    "import pylab as pl\n",
    "%matplotlib inline\n",
    "import warnings \n",
    "warnings.simplefilter(\"ignore\")"
   ]
  },
  {
   "cell_type": "markdown",
   "metadata": {},
   "source": [
    "#### Load dataset"
   ]
  },
  {
   "cell_type": "code",
   "execution_count": 2,
   "metadata": {},
   "outputs": [],
   "source": [
    "df =pd.read_csv(\"bank-full.csv\")"
   ]
  },
  {
   "cell_type": "code",
   "execution_count": 3,
   "metadata": {},
   "outputs": [
    {
     "data": {
      "text/html": [
       "<div>\n",
       "<style scoped>\n",
       "    .dataframe tbody tr th:only-of-type {\n",
       "        vertical-align: middle;\n",
       "    }\n",
       "\n",
       "    .dataframe tbody tr th {\n",
       "        vertical-align: top;\n",
       "    }\n",
       "\n",
       "    .dataframe thead th {\n",
       "        text-align: right;\n",
       "    }\n",
       "</style>\n",
       "<table border=\"1\" class=\"dataframe\">\n",
       "  <thead>\n",
       "    <tr style=\"text-align: right;\">\n",
       "      <th></th>\n",
       "      <th>age</th>\n",
       "      <th>job</th>\n",
       "      <th>marital</th>\n",
       "      <th>education</th>\n",
       "      <th>default</th>\n",
       "      <th>balance</th>\n",
       "      <th>housing</th>\n",
       "      <th>loan</th>\n",
       "      <th>contact</th>\n",
       "      <th>day</th>\n",
       "      <th>month</th>\n",
       "      <th>duration</th>\n",
       "      <th>campaign</th>\n",
       "      <th>pdays</th>\n",
       "      <th>previous</th>\n",
       "      <th>poutcome</th>\n",
       "      <th>Target</th>\n",
       "    </tr>\n",
       "  </thead>\n",
       "  <tbody>\n",
       "    <tr>\n",
       "      <td>0</td>\n",
       "      <td>58</td>\n",
       "      <td>management</td>\n",
       "      <td>married</td>\n",
       "      <td>tertiary</td>\n",
       "      <td>no</td>\n",
       "      <td>2143</td>\n",
       "      <td>yes</td>\n",
       "      <td>no</td>\n",
       "      <td>unknown</td>\n",
       "      <td>5</td>\n",
       "      <td>may</td>\n",
       "      <td>261</td>\n",
       "      <td>1</td>\n",
       "      <td>-1</td>\n",
       "      <td>0</td>\n",
       "      <td>unknown</td>\n",
       "      <td>no</td>\n",
       "    </tr>\n",
       "    <tr>\n",
       "      <td>1</td>\n",
       "      <td>44</td>\n",
       "      <td>technician</td>\n",
       "      <td>single</td>\n",
       "      <td>secondary</td>\n",
       "      <td>no</td>\n",
       "      <td>29</td>\n",
       "      <td>yes</td>\n",
       "      <td>no</td>\n",
       "      <td>unknown</td>\n",
       "      <td>5</td>\n",
       "      <td>may</td>\n",
       "      <td>151</td>\n",
       "      <td>1</td>\n",
       "      <td>-1</td>\n",
       "      <td>0</td>\n",
       "      <td>unknown</td>\n",
       "      <td>no</td>\n",
       "    </tr>\n",
       "    <tr>\n",
       "      <td>2</td>\n",
       "      <td>33</td>\n",
       "      <td>entrepreneur</td>\n",
       "      <td>married</td>\n",
       "      <td>secondary</td>\n",
       "      <td>no</td>\n",
       "      <td>2</td>\n",
       "      <td>yes</td>\n",
       "      <td>yes</td>\n",
       "      <td>unknown</td>\n",
       "      <td>5</td>\n",
       "      <td>may</td>\n",
       "      <td>76</td>\n",
       "      <td>1</td>\n",
       "      <td>-1</td>\n",
       "      <td>0</td>\n",
       "      <td>unknown</td>\n",
       "      <td>no</td>\n",
       "    </tr>\n",
       "    <tr>\n",
       "      <td>3</td>\n",
       "      <td>47</td>\n",
       "      <td>blue-collar</td>\n",
       "      <td>married</td>\n",
       "      <td>unknown</td>\n",
       "      <td>no</td>\n",
       "      <td>1506</td>\n",
       "      <td>yes</td>\n",
       "      <td>no</td>\n",
       "      <td>unknown</td>\n",
       "      <td>5</td>\n",
       "      <td>may</td>\n",
       "      <td>92</td>\n",
       "      <td>1</td>\n",
       "      <td>-1</td>\n",
       "      <td>0</td>\n",
       "      <td>unknown</td>\n",
       "      <td>no</td>\n",
       "    </tr>\n",
       "    <tr>\n",
       "      <td>4</td>\n",
       "      <td>33</td>\n",
       "      <td>unknown</td>\n",
       "      <td>single</td>\n",
       "      <td>unknown</td>\n",
       "      <td>no</td>\n",
       "      <td>1</td>\n",
       "      <td>no</td>\n",
       "      <td>no</td>\n",
       "      <td>unknown</td>\n",
       "      <td>5</td>\n",
       "      <td>may</td>\n",
       "      <td>198</td>\n",
       "      <td>1</td>\n",
       "      <td>-1</td>\n",
       "      <td>0</td>\n",
       "      <td>unknown</td>\n",
       "      <td>no</td>\n",
       "    </tr>\n",
       "    <tr>\n",
       "      <td>5</td>\n",
       "      <td>35</td>\n",
       "      <td>management</td>\n",
       "      <td>married</td>\n",
       "      <td>tertiary</td>\n",
       "      <td>no</td>\n",
       "      <td>231</td>\n",
       "      <td>yes</td>\n",
       "      <td>no</td>\n",
       "      <td>unknown</td>\n",
       "      <td>5</td>\n",
       "      <td>may</td>\n",
       "      <td>139</td>\n",
       "      <td>1</td>\n",
       "      <td>-1</td>\n",
       "      <td>0</td>\n",
       "      <td>unknown</td>\n",
       "      <td>no</td>\n",
       "    </tr>\n",
       "    <tr>\n",
       "      <td>6</td>\n",
       "      <td>28</td>\n",
       "      <td>management</td>\n",
       "      <td>single</td>\n",
       "      <td>tertiary</td>\n",
       "      <td>no</td>\n",
       "      <td>447</td>\n",
       "      <td>yes</td>\n",
       "      <td>yes</td>\n",
       "      <td>unknown</td>\n",
       "      <td>5</td>\n",
       "      <td>may</td>\n",
       "      <td>217</td>\n",
       "      <td>1</td>\n",
       "      <td>-1</td>\n",
       "      <td>0</td>\n",
       "      <td>unknown</td>\n",
       "      <td>no</td>\n",
       "    </tr>\n",
       "    <tr>\n",
       "      <td>7</td>\n",
       "      <td>42</td>\n",
       "      <td>entrepreneur</td>\n",
       "      <td>divorced</td>\n",
       "      <td>tertiary</td>\n",
       "      <td>yes</td>\n",
       "      <td>2</td>\n",
       "      <td>yes</td>\n",
       "      <td>no</td>\n",
       "      <td>unknown</td>\n",
       "      <td>5</td>\n",
       "      <td>may</td>\n",
       "      <td>380</td>\n",
       "      <td>1</td>\n",
       "      <td>-1</td>\n",
       "      <td>0</td>\n",
       "      <td>unknown</td>\n",
       "      <td>no</td>\n",
       "    </tr>\n",
       "    <tr>\n",
       "      <td>8</td>\n",
       "      <td>58</td>\n",
       "      <td>retired</td>\n",
       "      <td>married</td>\n",
       "      <td>primary</td>\n",
       "      <td>no</td>\n",
       "      <td>121</td>\n",
       "      <td>yes</td>\n",
       "      <td>no</td>\n",
       "      <td>unknown</td>\n",
       "      <td>5</td>\n",
       "      <td>may</td>\n",
       "      <td>50</td>\n",
       "      <td>1</td>\n",
       "      <td>-1</td>\n",
       "      <td>0</td>\n",
       "      <td>unknown</td>\n",
       "      <td>no</td>\n",
       "    </tr>\n",
       "    <tr>\n",
       "      <td>9</td>\n",
       "      <td>43</td>\n",
       "      <td>technician</td>\n",
       "      <td>single</td>\n",
       "      <td>secondary</td>\n",
       "      <td>no</td>\n",
       "      <td>593</td>\n",
       "      <td>yes</td>\n",
       "      <td>no</td>\n",
       "      <td>unknown</td>\n",
       "      <td>5</td>\n",
       "      <td>may</td>\n",
       "      <td>55</td>\n",
       "      <td>1</td>\n",
       "      <td>-1</td>\n",
       "      <td>0</td>\n",
       "      <td>unknown</td>\n",
       "      <td>no</td>\n",
       "    </tr>\n",
       "  </tbody>\n",
       "</table>\n",
       "</div>"
      ],
      "text/plain": [
       "   age           job   marital  education default  balance housing loan  \\\n",
       "0   58    management   married   tertiary      no     2143     yes   no   \n",
       "1   44    technician    single  secondary      no       29     yes   no   \n",
       "2   33  entrepreneur   married  secondary      no        2     yes  yes   \n",
       "3   47   blue-collar   married    unknown      no     1506     yes   no   \n",
       "4   33       unknown    single    unknown      no        1      no   no   \n",
       "5   35    management   married   tertiary      no      231     yes   no   \n",
       "6   28    management    single   tertiary      no      447     yes  yes   \n",
       "7   42  entrepreneur  divorced   tertiary     yes        2     yes   no   \n",
       "8   58       retired   married    primary      no      121     yes   no   \n",
       "9   43    technician    single  secondary      no      593     yes   no   \n",
       "\n",
       "   contact  day month  duration  campaign  pdays  previous poutcome Target  \n",
       "0  unknown    5   may       261         1     -1         0  unknown     no  \n",
       "1  unknown    5   may       151         1     -1         0  unknown     no  \n",
       "2  unknown    5   may        76         1     -1         0  unknown     no  \n",
       "3  unknown    5   may        92         1     -1         0  unknown     no  \n",
       "4  unknown    5   may       198         1     -1         0  unknown     no  \n",
       "5  unknown    5   may       139         1     -1         0  unknown     no  \n",
       "6  unknown    5   may       217         1     -1         0  unknown     no  \n",
       "7  unknown    5   may       380         1     -1         0  unknown     no  \n",
       "8  unknown    5   may        50         1     -1         0  unknown     no  \n",
       "9  unknown    5   may        55         1     -1         0  unknown     no  "
      ]
     },
     "execution_count": 3,
     "metadata": {},
     "output_type": "execute_result"
    }
   ],
   "source": [
    "df.head(10)"
   ]
  },
  {
   "cell_type": "code",
   "execution_count": 4,
   "metadata": {},
   "outputs": [
    {
     "name": "stdout",
     "output_type": "stream",
     "text": [
      "<class 'pandas.core.frame.DataFrame'>\n",
      "RangeIndex: 45211 entries, 0 to 45210\n",
      "Data columns (total 17 columns):\n",
      "age          45211 non-null int64\n",
      "job          45211 non-null object\n",
      "marital      45211 non-null object\n",
      "education    45211 non-null object\n",
      "default      45211 non-null object\n",
      "balance      45211 non-null int64\n",
      "housing      45211 non-null object\n",
      "loan         45211 non-null object\n",
      "contact      45211 non-null object\n",
      "day          45211 non-null int64\n",
      "month        45211 non-null object\n",
      "duration     45211 non-null int64\n",
      "campaign     45211 non-null int64\n",
      "pdays        45211 non-null int64\n",
      "previous     45211 non-null int64\n",
      "poutcome     45211 non-null object\n",
      "Target       45211 non-null object\n",
      "dtypes: int64(7), object(10)\n",
      "memory usage: 5.9+ MB\n"
     ]
    }
   ],
   "source": [
    "# Data types of the attributes\n",
    "df.info()"
   ]
  },
  {
   "cell_type": "markdown",
   "metadata": {},
   "source": [
    "From the above output we can see the datatypes of the different attributes.\n",
    "It contains 7 integer type and 10 object type attribute."
   ]
  },
  {
   "cell_type": "code",
   "execution_count": 5,
   "metadata": {},
   "outputs": [
    {
     "data": {
      "text/plain": [
       "(45211, 17)"
      ]
     },
     "execution_count": 5,
     "metadata": {},
     "output_type": "execute_result"
    }
   ],
   "source": [
    "# Shape of the data\n",
    "df.shape"
   ]
  },
  {
   "cell_type": "code",
   "execution_count": 6,
   "metadata": {},
   "outputs": [
    {
     "data": {
      "text/plain": [
       "age          0\n",
       "job          0\n",
       "marital      0\n",
       "education    0\n",
       "default      0\n",
       "balance      0\n",
       "housing      0\n",
       "loan         0\n",
       "contact      0\n",
       "day          0\n",
       "month        0\n",
       "duration     0\n",
       "campaign     0\n",
       "pdays        0\n",
       "previous     0\n",
       "poutcome     0\n",
       "Target       0\n",
       "dtype: int64"
      ]
     },
     "execution_count": 6,
     "metadata": {},
     "output_type": "execute_result"
    }
   ],
   "source": [
    "#Checking the presence of missing values\n",
    "df.isnull().sum()"
   ]
  },
  {
   "cell_type": "markdown",
   "metadata": {},
   "source": [
    "There are no missing values in the dataset"
   ]
  },
  {
   "cell_type": "code",
   "execution_count": 7,
   "metadata": {},
   "outputs": [
    {
     "data": {
      "text/html": [
       "<div>\n",
       "<style scoped>\n",
       "    .dataframe tbody tr th:only-of-type {\n",
       "        vertical-align: middle;\n",
       "    }\n",
       "\n",
       "    .dataframe tbody tr th {\n",
       "        vertical-align: top;\n",
       "    }\n",
       "\n",
       "    .dataframe thead th {\n",
       "        text-align: right;\n",
       "    }\n",
       "</style>\n",
       "<table border=\"1\" class=\"dataframe\">\n",
       "  <thead>\n",
       "    <tr style=\"text-align: right;\">\n",
       "      <th></th>\n",
       "      <th>count</th>\n",
       "      <th>mean</th>\n",
       "      <th>std</th>\n",
       "      <th>min</th>\n",
       "      <th>25%</th>\n",
       "      <th>50%</th>\n",
       "      <th>75%</th>\n",
       "      <th>max</th>\n",
       "    </tr>\n",
       "  </thead>\n",
       "  <tbody>\n",
       "    <tr>\n",
       "      <td>age</td>\n",
       "      <td>45211.0</td>\n",
       "      <td>40.936210</td>\n",
       "      <td>10.618762</td>\n",
       "      <td>18.0</td>\n",
       "      <td>33.0</td>\n",
       "      <td>39.0</td>\n",
       "      <td>48.0</td>\n",
       "      <td>95.0</td>\n",
       "    </tr>\n",
       "    <tr>\n",
       "      <td>balance</td>\n",
       "      <td>45211.0</td>\n",
       "      <td>1362.272058</td>\n",
       "      <td>3044.765829</td>\n",
       "      <td>-8019.0</td>\n",
       "      <td>72.0</td>\n",
       "      <td>448.0</td>\n",
       "      <td>1428.0</td>\n",
       "      <td>102127.0</td>\n",
       "    </tr>\n",
       "    <tr>\n",
       "      <td>day</td>\n",
       "      <td>45211.0</td>\n",
       "      <td>15.806419</td>\n",
       "      <td>8.322476</td>\n",
       "      <td>1.0</td>\n",
       "      <td>8.0</td>\n",
       "      <td>16.0</td>\n",
       "      <td>21.0</td>\n",
       "      <td>31.0</td>\n",
       "    </tr>\n",
       "    <tr>\n",
       "      <td>duration</td>\n",
       "      <td>45211.0</td>\n",
       "      <td>258.163080</td>\n",
       "      <td>257.527812</td>\n",
       "      <td>0.0</td>\n",
       "      <td>103.0</td>\n",
       "      <td>180.0</td>\n",
       "      <td>319.0</td>\n",
       "      <td>4918.0</td>\n",
       "    </tr>\n",
       "    <tr>\n",
       "      <td>campaign</td>\n",
       "      <td>45211.0</td>\n",
       "      <td>2.763841</td>\n",
       "      <td>3.098021</td>\n",
       "      <td>1.0</td>\n",
       "      <td>1.0</td>\n",
       "      <td>2.0</td>\n",
       "      <td>3.0</td>\n",
       "      <td>63.0</td>\n",
       "    </tr>\n",
       "    <tr>\n",
       "      <td>pdays</td>\n",
       "      <td>45211.0</td>\n",
       "      <td>40.197828</td>\n",
       "      <td>100.128746</td>\n",
       "      <td>-1.0</td>\n",
       "      <td>-1.0</td>\n",
       "      <td>-1.0</td>\n",
       "      <td>-1.0</td>\n",
       "      <td>871.0</td>\n",
       "    </tr>\n",
       "    <tr>\n",
       "      <td>previous</td>\n",
       "      <td>45211.0</td>\n",
       "      <td>0.580323</td>\n",
       "      <td>2.303441</td>\n",
       "      <td>0.0</td>\n",
       "      <td>0.0</td>\n",
       "      <td>0.0</td>\n",
       "      <td>0.0</td>\n",
       "      <td>275.0</td>\n",
       "    </tr>\n",
       "  </tbody>\n",
       "</table>\n",
       "</div>"
      ],
      "text/plain": [
       "            count         mean          std     min    25%    50%     75%  \\\n",
       "age       45211.0    40.936210    10.618762    18.0   33.0   39.0    48.0   \n",
       "balance   45211.0  1362.272058  3044.765829 -8019.0   72.0  448.0  1428.0   \n",
       "day       45211.0    15.806419     8.322476     1.0    8.0   16.0    21.0   \n",
       "duration  45211.0   258.163080   257.527812     0.0  103.0  180.0   319.0   \n",
       "campaign  45211.0     2.763841     3.098021     1.0    1.0    2.0     3.0   \n",
       "pdays     45211.0    40.197828   100.128746    -1.0   -1.0   -1.0    -1.0   \n",
       "previous  45211.0     0.580323     2.303441     0.0    0.0    0.0     0.0   \n",
       "\n",
       "               max  \n",
       "age           95.0  \n",
       "balance   102127.0  \n",
       "day           31.0  \n",
       "duration    4918.0  \n",
       "campaign      63.0  \n",
       "pdays        871.0  \n",
       "previous     275.0  "
      ]
     },
     "execution_count": 7,
     "metadata": {},
     "output_type": "execute_result"
    }
   ],
   "source": [
    "#5 point summary of numerical attributes\n",
    "df.describe().T"
   ]
  },
  {
   "cell_type": "code",
   "execution_count": 8,
   "metadata": {},
   "outputs": [
    {
     "data": {
      "text/plain": [
       "age          487\n",
       "balance     4729\n",
       "day            0\n",
       "duration    3235\n",
       "campaign    3064\n",
       "pdays       8257\n",
       "previous    8257\n",
       "dtype: int64"
      ]
     },
     "execution_count": 8,
     "metadata": {},
     "output_type": "execute_result"
    }
   ],
   "source": [
    "#Checking the presence of outliers\n",
    "# Outlier is defined as Data points above or below than 1.5 times the Inter Quartile Range of the data.\n",
    "numerical = ['age','balance','day','duration','campaign','pdays','previous']\n",
    "Q1 = df[numerical].quantile(0.25)\n",
    "Q3 = df[numerical].quantile(0.75)\n",
    "IQR = Q3 - Q1\n",
    "out = (df[numerical] < (Q1 - 1.5 * IQR)) | (df[numerical] > (Q3 + 1.5 * IQR))\n",
    "out.sum()"
   ]
  },
  {
   "cell_type": "markdown",
   "metadata": {},
   "source": [
    "There are 6 columns in the dataset which has outliers"
   ]
  },
  {
   "cell_type": "code",
   "execution_count": 9,
   "metadata": {},
   "outputs": [
    {
     "data": {
      "text/plain": [
       "age            77\n",
       "job            12\n",
       "marital         3\n",
       "education       4\n",
       "default         2\n",
       "balance      7168\n",
       "housing         2\n",
       "loan            2\n",
       "contact         3\n",
       "day            31\n",
       "month          12\n",
       "duration     1573\n",
       "campaign       48\n",
       "pdays         559\n",
       "previous       41\n",
       "poutcome        4\n",
       "Target          2\n",
       "dtype: int64"
      ]
     },
     "execution_count": 9,
     "metadata": {},
     "output_type": "execute_result"
    }
   ],
   "source": [
    "#finding unique data\n",
    "df.apply(lambda x: len(x.unique()))"
   ]
  },
  {
   "cell_type": "markdown",
   "metadata": {},
   "source": [
    "#### Data Distribution of features"
   ]
  },
  {
   "cell_type": "markdown",
   "metadata": {},
   "source": [
    "Distribution of some of the categorical features"
   ]
  },
  {
   "cell_type": "code",
   "execution_count": 10,
   "metadata": {},
   "outputs": [
    {
     "data": {
      "image/png": "[encoded data removed]",
      "text/plain": [
       "<Figure size 864x576 with 1 Axes>"
      ]
     },
     "metadata": {
      "needs_background": "light"
     },
     "output_type": "display_data"
    }
   ],
   "source": [
    "fig,ax = plt.subplots(figsize=(12,8))\n",
    "ax=sns.countplot(df['job'],hue=df['Target'],order=df['job'].value_counts().index)\n",
    "ax.set_xticklabels(ax.get_xticklabels(), rotation=40)\n",
    "ax.set_title(\"Job Type Vs Target\")\n",
    "plt.legend()\n",
    "plt.show()\n"
   ]
  },
  {
   "cell_type": "markdown",
   "metadata": {},
   "source": [
    "Most of the persons belong to the Blue-collar job type .\n",
    "However more numnber of  persons belonging to management jobs has subscribe to the term deposit.\n",
    "There is also an unknown category in the job type which needs to be replaced."
   ]
  },
  {
   "cell_type": "code",
   "execution_count": 11,
   "metadata": {},
   "outputs": [
    {
     "data": {
      "image/png": "[encoded data removed]",
      "text/plain": [
       "<Figure size 864x576 with 1 Axes>"
      ]
     },
     "metadata": {
      "needs_background": "light"
     },
     "output_type": "display_data"
    }
   ],
   "source": [
    "fig,axes = plt.subplots(figsize=(12,8))\n",
    "ax=sns.countplot(df['marital'],hue=df['Target'],order=df['marital'].value_counts().index)\n",
    "ax.set_xticklabels(ax.get_xticklabels(), rotation=40)\n",
    "ax.set_title(\"Marital Status Vs Target\")\n",
    "plt.legend()\n",
    "plt.show()\n"
   ]
  },
  {
   "cell_type": "markdown",
   "metadata": {},
   "source": [
    "More than half of the customers are married. Less no of divorced customers has said yes for term deposit."
   ]
  },
  {
   "cell_type": "code",
   "execution_count": 12,
   "metadata": {},
   "outputs": [
    {
     "data": {
      "image/png": "[encoded data removed]",
      "text/plain": [
       "<Figure size 720x576 with 1 Axes>"
      ]
     },
     "metadata": {
      "needs_background": "light"
     },
     "output_type": "display_data"
    }
   ],
   "source": [
    "fig,axes = plt.subplots(figsize=(10,8))\n",
    "ax=sns.countplot(df['education'],hue=df['Target'],order=df['education'].value_counts().index)\n",
    "ax.set_xticklabels(ax.get_xticklabels(), rotation=40)\n",
    "ax.set_title(\"Education Vs Target\")\n",
    "plt.legend()\n",
    "plt.show()\n"
   ]
  },
  {
   "cell_type": "markdown",
   "metadata": {},
   "source": [
    "Most of the contacted List of Customer have secondary level of education."
   ]
  },
  {
   "cell_type": "code",
   "execution_count": 13,
   "metadata": {},
   "outputs": [
    {
     "data": {
      "image/png": "[encoded data removed]",
      "text/plain": [
       "<Figure size 720x576 with 1 Axes>"
      ]
     },
     "metadata": {
      "needs_background": "light"
     },
     "output_type": "display_data"
    }
   ],
   "source": [
    "fig,axes = plt.subplots(figsize=(10,8))\n",
    "ax=sns.countplot(df['default'],hue=df['Target'],order=df['default'].value_counts().index)\n",
    "ax.set_title(\"Credit in default Vs Target\")\n",
    "plt.legend()\n",
    "plt.show()\n"
   ]
  },
  {
   "cell_type": "markdown",
   "metadata": {},
   "source": [
    "Majority of the customer have credit in default."
   ]
  },
  {
   "cell_type": "code",
   "execution_count": 14,
   "metadata": {},
   "outputs": [
    {
     "data": {
      "image/png": "[encoded data removed]",
      "text/plain": [
       "<Figure size 720x576 with 1 Axes>"
      ]
     },
     "metadata": {
      "needs_background": "light"
     },
     "output_type": "display_data"
    }
   ],
   "source": [
    "fig,axes = plt.subplots(figsize=(10,8))\n",
    "ax=sns.countplot(df['housing'],hue=df['Target'],order=df['housing'].value_counts().index)\n",
    "ax.set_title(\"Housing Vs Target\")\n",
    "plt.legend()\n",
    "plt.show()\n"
   ]
  },
  {
   "cell_type": "markdown",
   "metadata": {},
   "source": [
    "There are more number of customers who has housing loan, however customers that dont have housing loan has more number in saying yes for term deposit."
   ]
  },
  {
   "cell_type": "code",
   "execution_count": 15,
   "metadata": {},
   "outputs": [
    {
     "data": {
      "image/png": "[encoded data removed]",
      "text/plain": [
       "<Figure size 720x576 with 1 Axes>"
      ]
     },
     "metadata": {
      "needs_background": "light"
     },
     "output_type": "display_data"
    }
   ],
   "source": [
    "fig,axes = plt.subplots(figsize=(10,8))\n",
    "ax=sns.countplot(df['loan'],hue=df['Target'],order=df['loan'].value_counts().index)\n",
    "ax.set_title(\" Personal Loan Vs Target\")\n",
    "plt.legend()\n",
    "plt.show()\n"
   ]
  },
  {
   "cell_type": "markdown",
   "metadata": {},
   "source": [
    "Majority of the customers has personal loan"
   ]
  },
  {
   "cell_type": "code",
   "execution_count": 16,
   "metadata": {},
   "outputs": [
    {
     "data": {
      "image/png": "[encoded data removed]",
      "text/plain": [
       "<Figure size 864x432 with 1 Axes>"
      ]
     },
     "metadata": {
      "needs_background": "light"
     },
     "output_type": "display_data"
    }
   ],
   "source": [
    "fig,axes = plt.subplots(figsize=(12,6))\n",
    "ax=sns.countplot(df['contact'],hue=df['Target'],order=df['contact'].value_counts().index)\n",
    "ax.set_title(\"Contact communication type Vs Target\")\n",
    "plt.legend()\n",
    "plt.show()"
   ]
  },
  {
   "cell_type": "markdown",
   "metadata": {},
   "source": [
    "Most of the customers has been contacted via cellular communication type. There are many unknown communication type in the dataset.However the type of communication does not effect the target variable."
   ]
  },
  {
   "cell_type": "code",
   "execution_count": 17,
   "metadata": {},
   "outputs": [
    {
     "data": {
      "image/png": "[encoded data removed]",
      "text/plain": [
       "<Figure size 864x432 with 1 Axes>"
      ]
     },
     "metadata": {
      "needs_background": "light"
     },
     "output_type": "display_data"
    }
   ],
   "source": [
    "fig,axes = plt.subplots(figsize=(12,6))\n",
    "ax=sns.countplot(df['month'],hue=df['Target'],order=df['month'].value_counts().index)\n",
    "ax.set_title(\"Last contact month Vs Target\")\n",
    "plt.legend()\n",
    "plt.show()"
   ]
  },
  {
   "cell_type": "markdown",
   "metadata": {},
   "source": [
    "Most of the customers has been contacted in the month of may."
   ]
  },
  {
   "cell_type": "code",
   "execution_count": 18,
   "metadata": {},
   "outputs": [
    {
     "data": {
      "image/png": "[encoded data removed]",
      "text/plain": [
       "<Figure size 864x432 with 1 Axes>"
      ]
     },
     "metadata": {
      "needs_background": "light"
     },
     "output_type": "display_data"
    }
   ],
   "source": [
    "fig,axes = plt.subplots(figsize=(12,6))\n",
    "ax=sns.countplot(df['poutcome'],hue=df['Target'],order=df['poutcome'].value_counts().index)\n",
    "ax.set_xticklabels(ax.get_xticklabels(), rotation=40)\n",
    "ax.set_title(\"Previous campaign Outcome Vs Target\")\n",
    "plt.legend()\n",
    "plt.show()"
   ]
  },
  {
   "cell_type": "markdown",
   "metadata": {},
   "source": [
    "More than 75% of the values in the column are unknown and we cannot drop those values as there will be huge data loss.\n",
    "It is also observed from the graph that customers who are successfully enrolled from the previous campaign are more likely to say yes for this current campaign also."
   ]
  },
  {
   "cell_type": "code",
   "execution_count": 19,
   "metadata": {},
   "outputs": [
    {
     "data": {
      "image/png": "[encoded data removed]",
      "text/plain": [
       "<Figure size 629.25x576 with 1 Axes>"
      ]
     },
     "metadata": {
      "needs_background": "light"
     },
     "output_type": "display_data"
    }
   ],
   "source": [
    "sns.lmplot(x='campaign', y='duration', data=df, fit_reg=False, hue='Target',height=8)\n",
    "plt.xlabel('Number of Calls')\n",
    "plt.ylabel('Duration of Calls (Seconds)')\n",
    "plt.title('The Relationship between the Number and Duration of Calls (with Response Result)')\n",
    "plt.show()"
   ]
  },
  {
   "cell_type": "markdown",
   "metadata": {},
   "source": [
    "It is observed from the graph that as the call duration increases there is increment in number of saying yes.\n",
    "However if the number of calls increases it is more likely that the customers will say no."
   ]
  },
  {
   "cell_type": "markdown",
   "metadata": {},
   "source": [
    "Distribution of numerical features\n"
   ]
  },
  {
   "cell_type": "code",
   "execution_count": 20,
   "metadata": {},
   "outputs": [
    {
     "data": {
      "image/png": "[encoded data removed]",
      "text/plain": [
       "<Figure size 1080x720 with 9 Axes>"
      ]
     },
     "metadata": {
      "needs_background": "light"
     },
     "output_type": "display_data"
    }
   ],
   "source": [
    "df[numerical].hist(figsize=(15,10))\n",
    "plt.show()"
   ]
  },
  {
   "cell_type": "markdown",
   "metadata": {},
   "source": [
    "* Age - From the graph it is observed that the Age column has slight right skewed distribution.\n",
    "* Balance - The distribution is highly right skewed and most of the customers have balance less than 5000 euros\n",
    "* Campaign - The distribution is highly right skewed.\n",
    "* Day - The distribution shows that most of the customers contact in the mid on the month.\n",
    "* Duration - The distribution is highly right skewed.\n",
    "* pdays - It is observed that less number of customers have been contacted by the bank.Distribution is hoghly skewed.\n",
    "\n"
   ]
  },
  {
   "cell_type": "markdown",
   "metadata": {},
   "source": [
    "#### Distribution of Target Column"
   ]
  },
  {
   "cell_type": "code",
   "execution_count": 21,
   "metadata": {},
   "outputs": [
    {
     "data": {
      "text/html": [
       "<div>\n",
       "<style scoped>\n",
       "    .dataframe tbody tr th:only-of-type {\n",
       "        vertical-align: middle;\n",
       "    }\n",
       "\n",
       "    .dataframe tbody tr th {\n",
       "        vertical-align: top;\n",
       "    }\n",
       "\n",
       "    .dataframe thead th {\n",
       "        text-align: right;\n",
       "    }\n",
       "</style>\n",
       "<table border=\"1\" class=\"dataframe\">\n",
       "  <thead>\n",
       "    <tr style=\"text-align: right;\">\n",
       "      <th></th>\n",
       "      <th>Target</th>\n",
       "    </tr>\n",
       "    <tr>\n",
       "      <th>Target</th>\n",
       "      <th></th>\n",
       "    </tr>\n",
       "  </thead>\n",
       "  <tbody>\n",
       "    <tr>\n",
       "      <td>no</td>\n",
       "      <td>39922</td>\n",
       "    </tr>\n",
       "    <tr>\n",
       "      <td>yes</td>\n",
       "      <td>5289</td>\n",
       "    </tr>\n",
       "  </tbody>\n",
       "</table>\n",
       "</div>"
      ],
      "text/plain": [
       "        Target\n",
       "Target        \n",
       "no       39922\n",
       "yes       5289"
      ]
     },
     "execution_count": 21,
     "metadata": {},
     "output_type": "execute_result"
    }
   ],
   "source": [
    "df.groupby(\"Target\").agg({'Target': 'count'})"
   ]
  },
  {
   "cell_type": "code",
   "execution_count": 22,
   "metadata": {},
   "outputs": [
    {
     "data": {
      "image/png": "[encoded data removed]",
      "text/plain": [
       "<Figure size 576x504 with 1 Axes>"
      ]
     },
     "metadata": {},
     "output_type": "display_data"
    }
   ],
   "source": [
    "fig,axes = plt.subplots(figsize=(8,7) )\n",
    "df['Target'].value_counts(sort=True).plot(kind='pie',autopct='%1.1f%%', fontsize= 20,startangle=130)\n",
    "plt.legend(['Rejected ','Accepted '])\n",
    "plt.title('Percentage of customers for Accepting / Rejecting the offer')\n",
    "plt.show()"
   ]
  },
  {
   "cell_type": "markdown",
   "metadata": {},
   "source": [
    "From the graph it is observed that dataset is highly baised.Only 11.7% customers had accepted the loan."
   ]
  },
  {
   "cell_type": "markdown",
   "metadata": {},
   "source": [
    "##### Corelation between columns"
   ]
  },
  {
   "cell_type": "code",
   "execution_count": 23,
   "metadata": {},
   "outputs": [
    {
     "data": {
      "image/png": "[encoded data removed]",
      "text/plain": [
       "<Figure size 1152x576 with 2 Axes>"
      ]
     },
     "metadata": {
      "needs_background": "light"
     },
     "output_type": "display_data"
    }
   ],
   "source": [
    "# Plot for Visualising the correlation between variables and Target Column.\n",
    "\n",
    "fig,ax = plt.subplots( figsize=(16,8) )\n",
    "sns.heatmap(df.corr(),annot=True)\n",
    "plt.title('Heatmap for Correlation')\n",
    "plt.show()"
   ]
  },
  {
   "cell_type": "markdown",
   "metadata": {},
   "source": [
    "### Preparation of data "
   ]
  },
  {
   "cell_type": "markdown",
   "metadata": {},
   "source": [
    "#### Get rid of missing or unknown values"
   ]
  },
  {
   "cell_type": "code",
   "execution_count": 24,
   "metadata": {},
   "outputs": [
    {
     "name": "stdout",
     "output_type": "stream",
     "text": [
      "List of unique values in poutcome \n",
      " unknown    36959\n",
      "failure     4901\n",
      "other       1840\n",
      "success     1511\n",
      "Name: poutcome, dtype: int64\n",
      "\n",
      "List of unique values in education \n",
      " secondary    23202\n",
      "tertiary     13301\n",
      "primary       6851\n",
      "unknown       1857\n",
      "Name: education, dtype: int64\n",
      "\n",
      "List of unique values in job \n",
      " blue-collar      9732\n",
      "management       9458\n",
      "technician       7597\n",
      "admin.           5171\n",
      "services         4154\n",
      "retired          2264\n",
      "self-employed    1579\n",
      "entrepreneur     1487\n",
      "unemployed       1303\n",
      "housemaid        1240\n",
      "student           938\n",
      "unknown           288\n",
      "Name: job, dtype: int64\n"
     ]
    }
   ],
   "source": [
    "print(\"List of unique values in poutcome \\n\", df['poutcome'].value_counts())\n",
    "print(\"\\nList of unique values in education \\n\", df['education'].value_counts())\n",
    "print(\"\\nList of unique values in job \\n\", df['job'].value_counts())"
   ]
  },
  {
   "cell_type": "markdown",
   "metadata": {},
   "source": [
    "There are 36959 unknown values in poutcome column which is 81.74% of the total.If we drop the values there will be significant loss in data.Hence we keep the data and assumed that unknown is a category for the particular feature.\n",
    "There are 1840 other values which we can replace to unknown type."
   ]
  },
  {
   "cell_type": "code",
   "execution_count": 25,
   "metadata": {},
   "outputs": [
    {
     "name": "stdout",
     "output_type": "stream",
     "text": [
      "['unknown' 'failure' 'success']\n"
     ]
    }
   ],
   "source": [
    "df['poutcome'].replace('other','unknown',inplace=True)\n",
    "print(df['poutcome'].unique())"
   ]
  },
  {
   "cell_type": "markdown",
   "metadata": {},
   "source": [
    "There are 1857 unknown values in Job column and 288 unknown values in education column,which is around 4% and 0.6% of the data.\n",
    "Hence we can drop those values."
   ]
  },
  {
   "cell_type": "code",
   "execution_count": 26,
   "metadata": {},
   "outputs": [
    {
     "name": "stdout",
     "output_type": "stream",
     "text": [
      "Unique values in job ['management' 'technician' 'entrepreneur' 'retired' 'admin.' 'services'\n",
      " 'blue-collar' 'self-employed' 'unemployed' 'housemaid' 'student']\n",
      "Unique values in eduaction  ['tertiary' 'secondary' 'primary']\n"
     ]
    }
   ],
   "source": [
    "df.drop(df[df['job']=='unknown'].index,inplace=True,axis=0)\n",
    "df.drop(df[df['education']=='unknown'].index,inplace=True,axis=0)\n",
    "print(\"Unique values in job\",df['job'].unique())\n",
    "print(\"Unique values in eduaction \",df['education'].unique())"
   ]
  },
  {
   "cell_type": "markdown",
   "metadata": {},
   "source": [
    "#### Converting Categorical features into numerical"
   ]
  },
  {
   "cell_type": "code",
   "execution_count": 27,
   "metadata": {},
   "outputs": [],
   "source": [
    "categorical_column = ['job', 'marital', 'education', 'default', 'housing', 'loan', 'contact', 'month','poutcome']"
   ]
  },
  {
   "cell_type": "code",
   "execution_count": 28,
   "metadata": {},
   "outputs": [],
   "source": [
    "df_encoded = pd.get_dummies(df,columns=categorical_column)"
   ]
  },
  {
   "cell_type": "code",
   "execution_count": 29,
   "metadata": {},
   "outputs": [
    {
     "data": {
      "text/plain": [
       "Index(['age', 'balance', 'day', 'duration', 'campaign', 'pdays', 'previous',\n",
       "       'Target', 'job_admin.', 'job_blue-collar', 'job_entrepreneur',\n",
       "       'job_housemaid', 'job_management', 'job_retired', 'job_self-employed',\n",
       "       'job_services', 'job_student', 'job_technician', 'job_unemployed',\n",
       "       'marital_divorced', 'marital_married', 'marital_single',\n",
       "       'education_primary', 'education_secondary', 'education_tertiary',\n",
       "       'default_no', 'default_yes', 'housing_no', 'housing_yes', 'loan_no',\n",
       "       'loan_yes', 'contact_cellular', 'contact_telephone', 'contact_unknown',\n",
       "       'month_apr', 'month_aug', 'month_dec', 'month_feb', 'month_jan',\n",
       "       'month_jul', 'month_jun', 'month_mar', 'month_may', 'month_nov',\n",
       "       'month_oct', 'month_sep', 'poutcome_failure', 'poutcome_success',\n",
       "       'poutcome_unknown'],\n",
       "      dtype='object')"
      ]
     },
     "execution_count": 29,
     "metadata": {},
     "output_type": "execute_result"
    }
   ],
   "source": [
    "df_encoded.columns"
   ]
  },
  {
   "cell_type": "markdown",
   "metadata": {},
   "source": [
    "* Dropping the duration column from the data as it is highly affects the output.Thus, this input should\n",
    "only be included for benchmark purposes and should be\n",
    "discarded if the intention is to have a realistic predictive\n",
    "model. "
   ]
  },
  {
   "cell_type": "code",
   "execution_count": 30,
   "metadata": {},
   "outputs": [],
   "source": [
    "df_encoded.drop(\"duration\",axis=1,inplace=True)"
   ]
  },
  {
   "cell_type": "markdown",
   "metadata": {},
   "source": [
    "#### Separating the target column"
   ]
  },
  {
   "cell_type": "code",
   "execution_count": 31,
   "metadata": {},
   "outputs": [],
   "source": [
    "df_encoded['Target'] = df_encoded['Target'].map({'yes': 1, 'no': 0})"
   ]
  },
  {
   "cell_type": "code",
   "execution_count": 32,
   "metadata": {},
   "outputs": [],
   "source": [
    "y = df_encoded[\"Target\"]\n",
    "X = df_encoded.drop(\"Target\",axis=1)"
   ]
  },
  {
   "cell_type": "markdown",
   "metadata": {},
   "source": [
    "#### Spliiting the data set"
   ]
  },
  {
   "cell_type": "code",
   "execution_count": 33,
   "metadata": {},
   "outputs": [],
   "source": [
    "X_train, X_test, y_train, y_test = train_test_split (X, y, test_size=0.30, random_state=1)"
   ]
  },
  {
   "cell_type": "markdown",
   "metadata": {},
   "source": [
    "#### Scaling the data"
   ]
  },
  {
   "cell_type": "code",
   "execution_count": 34,
   "metadata": {},
   "outputs": [],
   "source": [
    "sc= StandardScaler()\n",
    "scaledX_train = sc.fit_transform(X_train)\n",
    "scaledX_test = sc.transform(X_test)"
   ]
  },
  {
   "cell_type": "markdown",
   "metadata": {},
   "source": [
    "#### Applyling different Classification Models"
   ]
  },
  {
   "cell_type": "markdown",
   "metadata": {},
   "source": [
    "* Classification models used are Logistic Regression and Decision Trees.\n",
    "* KNN is not used because k-NN doesn’t perform well on imbalanced data. And it is a highly imbalance dataset.\n",
    "* SVM model is difficult to understand and interpret by human beings unlike Decision Trees.And here we are focusing on ensemble models more. All ensemble algorithm are used for training the model."
   ]
  },
  {
   "cell_type": "markdown",
   "metadata": {},
   "source": [
    "##### Logistic Regression"
   ]
  },
  {
   "cell_type": "code",
   "execution_count": 35,
   "metadata": {},
   "outputs": [
    {
     "name": "stdout",
     "output_type": "stream",
     "text": [
      "Training Accuracy : 0.8924756077393748\n",
      "Testing Accuracy : 0.8944281524926686\n",
      "Precision : 0.6595238095238095\n",
      "F1 Score:  0.28824141519250784\n",
      "Confusion Matrix - Logistic Regression :\n",
      "\n",
      " [[11313   143]\n",
      " [ 1225   277]]\n"
     ]
    }
   ],
   "source": [
    "lr = LogisticRegression(C=1)\n",
    "lr.fit(scaledX_train,y_train)\n",
    "lr_pred = lr.predict(scaledX_test)\n",
    "lr_training = lr.score(scaledX_train,y_train)\n",
    "lr_testing = lr.score(scaledX_test,y_test)\n",
    "lr_precision = precision_score(y_test,lr_pred)\n",
    "lr_f1 = f1_score(y_test,lr_pred)\n",
    "print(\"Training Accuracy :\", lr_training)\n",
    "print(\"Testing Accuracy :\",lr_testing )\n",
    "print(\"Precision :\",lr_precision )\n",
    "print(\"F1 Score: \",lr_f1 )\n",
    "print('Confusion Matrix - Logistic Regression :\\n\\n',confusion_matrix(y_test, lr_pred) )\n",
    "#tn, fp, fn, tp = confusion_matrix([0, 1, 0, 1], [1, 1, 1, 0]).ravel()"
   ]
  },
  {
   "cell_type": "markdown",
   "metadata": {},
   "source": [
    "*  We have a uneven class distribution so accuracy and presicion would not be good metrics to compare.\n",
    "* So F1 score can be used for comparing the models "
   ]
  },
  {
   "cell_type": "markdown",
   "metadata": {},
   "source": [
    "  Logistic Regression - \n",
    "* Training and testing accuracy are good, however there high number of False Positive.\n",
    "* F1 score this model is 0.28"
   ]
  },
  {
   "cell_type": "code",
   "execution_count": 36,
   "metadata": {},
   "outputs": [
    {
     "name": "stdout",
     "output_type": "stream",
     "text": [
      "F1 Sccore\n",
      " :               precision    recall  f1-score   support\n",
      "\n",
      "           0       0.90      0.99      0.94     11456\n",
      "           1       0.66      0.18      0.29      1502\n",
      "\n",
      "    accuracy                           0.89     12958\n",
      "   macro avg       0.78      0.59      0.62     12958\n",
      "weighted avg       0.87      0.89      0.87     12958\n",
      "\n"
     ]
    }
   ],
   "source": [
    "print('F1 Sccore\\n :',classification_report(y_test, lr_pred))"
   ]
  },
  {
   "cell_type": "markdown",
   "metadata": {},
   "source": [
    "#### Decision Tree"
   ]
  },
  {
   "cell_type": "code",
   "execution_count": 37,
   "metadata": {},
   "outputs": [
    {
     "name": "stdout",
     "output_type": "stream",
     "text": [
      "Traing Accuracy : 0.8923433107325947\n",
      "Testing Accuracy : 0.8953542213304523\n",
      "F1 Score:  0.29595015576323985\n",
      "Decision Tree Confusion matrix :\n",
      "\n",
      " [[11317   139]\n",
      " [ 1217   285]]\n"
     ]
    }
   ],
   "source": [
    "# Creating CART model with max_depth = 5\n",
    "\n",
    "dt = DecisionTreeClassifier(criterion='entropy',max_depth=1)\n",
    "dt.fit(scaledX_train,y_train)\n",
    "dt_pred = dt.predict(scaledX_test)\n",
    "dt_training = dt.score(scaledX_train,y_train)\n",
    "dt_testing = dt.score(scaledX_test,y_test)\n",
    "dt_precision = precision_score(y_test,dt_pred)\n",
    "dt_f1 = f1_score(y_test,dt_pred)\n",
    "print(\"Traing Accuracy :\", dt_training)\n",
    "print(\"Testing Accuracy :\",dt_testing )\n",
    "print(\"F1 Score: \",dt_f1 )\n",
    "print('Decision Tree Confusion matrix :\\n\\n',confusion_matrix(y_test, dt_pred) )"
   ]
  },
  {
   "cell_type": "markdown",
   "metadata": {},
   "source": [
    "Decision Trees \n",
    "* Good testing and training cuuracy\n",
    "* False Positive reduced compared to other above two models(still high)\n",
    "* F1 score is 0.25"
   ]
  },
  {
   "cell_type": "code",
   "execution_count": 38,
   "metadata": {},
   "outputs": [
    {
     "name": "stdout",
     "output_type": "stream",
     "text": [
      "F1 Score\n",
      " :               precision    recall  f1-score   support\n",
      "\n",
      "           0       0.90      0.99      0.94     11456\n",
      "           1       0.67      0.19      0.30      1502\n",
      "\n",
      "    accuracy                           0.90     12958\n",
      "   macro avg       0.79      0.59      0.62     12958\n",
      "weighted avg       0.88      0.90      0.87     12958\n",
      "\n"
     ]
    }
   ],
   "source": [
    "print('F1 Score\\n :',classification_report(y_test, dt_pred))"
   ]
  },
  {
   "cell_type": "markdown",
   "metadata": {},
   "source": [
    "### Models on Ensemble "
   ]
  },
  {
   "cell_type": "markdown",
   "metadata": {},
   "source": [
    "#### Random Forest"
   ]
  },
  {
   "cell_type": "code",
   "execution_count": 39,
   "metadata": {},
   "outputs": [
    {
     "name": "stdout",
     "output_type": "stream",
     "text": [
      "Traing Accuracy : 0.9990408467008434\n",
      "Testing Accuracy : 0.8934249112517364\n",
      "F1 Score:  0.29595015576323985\n",
      "Random Forest Confusion matrix :\n",
      "\n",
      " [[11233   223]\n",
      " [ 1158   344]]\n"
     ]
    }
   ],
   "source": [
    "rf = RandomForestClassifier(criterion='entropy',max_depth=50,n_estimators=50)\n",
    "rf.fit(scaledX_train,y_train)\n",
    "rf_pred = rf.predict(scaledX_test)\n",
    "rf_training = rf.score(scaledX_train,y_train)\n",
    "rf_testing = rf.score(scaledX_test,y_test)\n",
    "rf_precision = precision_score(y_test,rf_pred)\n",
    "rf_f1 = f1_score(y_test,rf_pred)\n",
    "print(\"Traing Accuracy :\", rf_training)\n",
    "print(\"Testing Accuracy :\",rf_testing )\n",
    "print(\"F1 Score: \",dt_f1 )\n",
    "print('Random Forest Confusion matrix :\\n\\n',confusion_matrix(y_test, rf_pred) )"
   ]
  },
  {
   "cell_type": "markdown",
   "metadata": {},
   "source": [
    "Random Forest\n",
    "* Testing and training accuracy are good.\n",
    "* False positive is comparitively lower than classification models\n",
    "* F1 score is 0.29"
   ]
  },
  {
   "cell_type": "code",
   "execution_count": 40,
   "metadata": {},
   "outputs": [
    {
     "name": "stdout",
     "output_type": "stream",
     "text": [
      "F1 Score\n",
      " :               precision    recall  f1-score   support\n",
      "\n",
      "           0       0.91      0.98      0.94     11456\n",
      "           1       0.61      0.23      0.33      1502\n",
      "\n",
      "    accuracy                           0.89     12958\n",
      "   macro avg       0.76      0.60      0.64     12958\n",
      "weighted avg       0.87      0.89      0.87     12958\n",
      "\n"
     ]
    }
   ],
   "source": [
    "print('F1 Score\\n :',classification_report(y_test, rf_pred))"
   ]
  },
  {
   "cell_type": "markdown",
   "metadata": {},
   "source": [
    "#### Bagging Classifier"
   ]
  },
  {
   "cell_type": "code",
   "execution_count": 41,
   "metadata": {},
   "outputs": [
    {
     "name": "stdout",
     "output_type": "stream",
     "text": [
      "Traing Accuracy : 0.8918471969571689\n",
      "Testing Accuracy : 0.8924216700108042\n",
      "F1 Score:  0.21331828442437922\n",
      "Bagging Classifier Confusion matrix :\n",
      "\n",
      " [[11375    81]\n",
      " [ 1313   189]]\n"
     ]
    }
   ],
   "source": [
    "bg = BaggingClassifier(base_estimator=DecisionTreeClassifier(),n_estimators=500,bootstrap=True,max_samples=100)\n",
    "bg.fit(scaledX_train,y_train)\n",
    "bg_pred = bg.predict(scaledX_test)\n",
    "bg_training = bg.score(scaledX_train,y_train)\n",
    "bg_testing = bg.score(scaledX_test,y_test)\n",
    "bg_precision = precision_score(y_test,bg_pred)\n",
    "bg_f1 = f1_score(y_test,bg_pred)\n",
    "print(\"Traing Accuracy :\", bg_training)\n",
    "print(\"Testing Accuracy :\",bg_testing )\n",
    "print(\"F1 Score: \",bg_f1 )\n",
    "print('Bagging Classifier Confusion matrix :\\n\\n',confusion_matrix(y_test, bg_pred) )"
   ]
  },
  {
   "cell_type": "markdown",
   "metadata": {},
   "source": [
    "Bagging Classifier\n",
    "* Testing and training accuracy are good.\n",
    "* False positive is comparitively lower than classification models\n",
    "* F1 score is 0.23"
   ]
  },
  {
   "cell_type": "code",
   "execution_count": 42,
   "metadata": {},
   "outputs": [
    {
     "name": "stdout",
     "output_type": "stream",
     "text": [
      "F1 Score\n",
      " :               precision    recall  f1-score   support\n",
      "\n",
      "           0       0.90      0.99      0.94     11456\n",
      "           1       0.70      0.13      0.21      1502\n",
      "\n",
      "    accuracy                           0.89     12958\n",
      "   macro avg       0.80      0.56      0.58     12958\n",
      "weighted avg       0.87      0.89      0.86     12958\n",
      "\n"
     ]
    }
   ],
   "source": [
    "print('F1 Score\\n :',classification_report(y_test, bg_pred))"
   ]
  },
  {
   "cell_type": "markdown",
   "metadata": {},
   "source": [
    "#### AdaBoost Classifier"
   ]
  },
  {
   "cell_type": "code",
   "execution_count": 43,
   "metadata": {},
   "outputs": [
    {
     "name": "stdout",
     "output_type": "stream",
     "text": [
      "Traing Accuracy : 0.8932032412766661\n",
      "Testing Accuracy : 0.8929618768328446\n",
      "F1 Score:  0.2349696635410921\n",
      "AdaBoost Classifier Confusion matrix :\n",
      "\n",
      " [[11358    98]\n",
      " [ 1289   213]]\n"
     ]
    }
   ],
   "source": [
    "ada = AdaBoostClassifier(base_estimator=DecisionTreeClassifier(max_depth=2),n_estimators=10,learning_rate=0.5)\n",
    "ada.fit(scaledX_train,y_train)\n",
    "ada_pred = ada.predict(scaledX_test)\n",
    "ada_training = ada.score(scaledX_train,y_train)\n",
    "ada_testing = ada.score(scaledX_test,y_test)\n",
    "ada_f1 = f1_score(y_test,ada_pred)\n",
    "ada_precision = precision_score(y_test,ada_pred)\n",
    "print(\"Traing Accuracy :\", ada_training)\n",
    "print(\"Testing Accuracy :\",ada_testing )\n",
    "print(\"F1 Score: \",ada_f1 )\n",
    "print('AdaBoost Classifier Confusion matrix :\\n\\n',confusion_matrix(y_test, ada_pred) )\n"
   ]
  },
  {
   "cell_type": "markdown",
   "metadata": {},
   "source": [
    "AdaBoost Classifier\n",
    "* Testing and training accuracy are good.\n",
    "* High number of False positives (more than bagging classifier)\n",
    "* F1 score is 0.23"
   ]
  },
  {
   "cell_type": "code",
   "execution_count": 44,
   "metadata": {},
   "outputs": [
    {
     "name": "stdout",
     "output_type": "stream",
     "text": [
      "F1 Score\n",
      " :               precision    recall  f1-score   support\n",
      "\n",
      "           0       0.90      0.99      0.94     11456\n",
      "           1       0.68      0.14      0.23      1502\n",
      "\n",
      "    accuracy                           0.89     12958\n",
      "   macro avg       0.79      0.57      0.59     12958\n",
      "weighted avg       0.87      0.89      0.86     12958\n",
      "\n"
     ]
    }
   ],
   "source": [
    "print('F1 Score\\n :',classification_report(y_test, ada_pred))"
   ]
  },
  {
   "cell_type": "markdown",
   "metadata": {},
   "source": [
    "#### GradientBoost Classifier\n"
   ]
  },
  {
   "cell_type": "code",
   "execution_count": 45,
   "metadata": {},
   "outputs": [
    {
     "name": "stdout",
     "output_type": "stream",
     "text": [
      "Traing Accuracy : 0.8933686125351414\n",
      "Testing Accuracy : 0.8933477388485878\n",
      "F1 Score:  0.2093821510297483\n",
      "AdaBoost Classifier Confusion matrix :\n",
      "\n",
      " [[11393    63]\n",
      " [ 1319   183]]\n"
     ]
    }
   ],
   "source": [
    "gbc = GradientBoostingClassifier(learning_rate=0.02,n_estimators=65)\n",
    "gbc.fit(scaledX_train,y_train)\n",
    "gbc_pred = gbc.predict(scaledX_test)\n",
    "gbc_training = gbc.score(scaledX_train,y_train)\n",
    "gbc_testing = gbc.score(scaledX_test,y_test)\n",
    "gbc_f1 = f1_score(y_test,gbc_pred)\n",
    "gbc_precision = precision_score(y_test,gbc_pred)\n",
    "print(\"Traing Accuracy :\", gbc_training)\n",
    "print(\"Testing Accuracy :\",gbc_testing )\n",
    "print(\"F1 Score: \",gbc_f1 )\n",
    "print('AdaBoost Classifier Confusion matrix :\\n\\n',confusion_matrix(y_test, gbc_pred) )\n"
   ]
  },
  {
   "cell_type": "markdown",
   "metadata": {},
   "source": [
    "AdaBoost Classifier\n",
    "* Testing and training accuracy are good.\n",
    "* False positive is comparitively low (lowest among other models)\n",
    "* F1 score is 0.20 "
   ]
  },
  {
   "cell_type": "code",
   "execution_count": 46,
   "metadata": {},
   "outputs": [
    {
     "name": "stdout",
     "output_type": "stream",
     "text": [
      "F1 Score\n",
      " :               precision    recall  f1-score   support\n",
      "\n",
      "           0       0.90      0.99      0.94     11456\n",
      "           1       0.74      0.12      0.21      1502\n",
      "\n",
      "    accuracy                           0.89     12958\n",
      "   macro avg       0.82      0.56      0.58     12958\n",
      "weighted avg       0.88      0.89      0.86     12958\n",
      "\n"
     ]
    }
   ],
   "source": [
    "print('F1 Score\\n :',classification_report(y_test, gbc_pred))"
   ]
  },
  {
   "cell_type": "markdown",
   "metadata": {},
   "source": [
    "### ROC for different models"
   ]
  },
  {
   "cell_type": "markdown",
   "metadata": {},
   "source": [
    "### ROC for ensemble models"
   ]
  },
  {
   "cell_type": "code",
   "execution_count": 47,
   "metadata": {},
   "outputs": [
    {
     "name": "stdout",
     "output_type": "stream",
     "text": [
      "Area under the curve for Random Forest  0.6804489381941398\n",
      "Area under the curve for Bagging  0.6320956659742317\n",
      "Area under the curve for AdaBoost  0.6773920561690558\n",
      "Area under the curve for  Gradient  0.6730358997593524\n",
      "Area under the curve for  Logistic Regression  0.59911078176026\n",
      "Area under the curve for Decision Trees  0.5\n"
     ]
    }
   ],
   "source": [
    "# ROC for Random Forest\n",
    "rf_prob = rf.predict_proba(X_test)\n",
    "fpr,tpr,thresh=roc_curve(y_test,rf_prob[:,1])\n",
    "auc1 = auc(fpr,tpr)\n",
    "print(\"Area under the curve for Random Forest \", auc1)\n",
    "\n",
    "#ROC for Bagging\n",
    "bg_prob = bg.predict_proba(X_test)\n",
    "fpr1,tpr1,thresh1=roc_curve(y_test,bg_prob[:,1])\n",
    "auc2 = auc(fpr1,tpr1)\n",
    "print(\"Area under the curve for Bagging \", auc2)\n",
    "\n",
    "#ROC for AdaBoost\n",
    "ada_prob = ada.predict_proba(X_test)\n",
    "fpr2,tpr2,thresh2=roc_curve(y_test,ada_prob[:,1])\n",
    "auc3 = auc(fpr2,tpr2)\n",
    "print(\"Area under the curve for AdaBoost \", auc3)\n",
    "\n",
    "#ROC for GradientBoost\n",
    "gbc_prob = gbc.predict_proba(X_test)\n",
    "fpr3,tpr3,thresh3=roc_curve(y_test,gbc_prob[:,1])\n",
    "auc4 = auc(fpr3,tpr3)\n",
    "print(\"Area under the curve for  Gradient \", auc4)\n",
    "\n",
    "lr_prob = lr.predict_proba(X_test)\n",
    "lr_fpr,lr_tpr,lr_thresh=roc_curve(y_test,lr_prob[:,1])\n",
    "lr_auc = auc(lr_fpr,lr_tpr)\n",
    "print(\"Area under the curve for  Logistic Regression \", lr_auc)\n",
    "\n",
    "dt_prob = dt.predict_proba(X_test)\n",
    "dt_fpr,dt_tpr,dt_thresh=roc_curve(y_test,dt_prob[:,1])\n",
    "dt_auc = auc(dt_fpr,dt_tpr)\n",
    "print(\"Area under the curve for Decision Trees \", dt_auc)\n"
   ]
  },
  {
   "cell_type": "code",
   "execution_count": 48,
   "metadata": {},
   "outputs": [
    {
     "data": {
      "text/plain": [
       "<Figure size 432x288 with 0 Axes>"
      ]
     },
     "metadata": {},
     "output_type": "display_data"
    },
    {
     "data": {
      "image/png": "[encoded data removed]",
      "text/plain": [
       "<Figure size 864x720 with 4 Axes>"
      ]
     },
     "metadata": {
      "needs_background": "light"
     },
     "output_type": "display_data"
    }
   ],
   "source": [
    "#Plot the ROC curve \n",
    "plt.clf()\n",
    "fig, ax= plt.subplots(nrows = 2, ncols = 2, figsize = (12,10))\n",
    "ax[0,0].plot(fpr, tpr, label='AUC area = %0.2f' % auc1)\n",
    "ax[0,0].plot([0, 1], [0, 1], 'k--')\n",
    "ax[0,0].set_xlabel('False Positive Rate')\n",
    "ax[0,0].set_ylabel('True Positive Rate')\n",
    "ax[0,0].set_title('ROC for Random Forest')\n",
    "ax[0,0].legend(loc=\"lower right\")\n",
    "\n",
    "ax[0,1].plot(fpr1, tpr1, label='AUC = %0.2f' % auc2)\n",
    "ax[0,1].plot([0, 1], [0, 1], 'k--')\n",
    "ax[0,1].set_xlabel('False Positive Rate')\n",
    "ax[0,1].set_ylabel('True Positive Rate')\n",
    "ax[0,1].set_title('ROC for Bagging')\n",
    "ax[0,1].legend(loc=\"lower right\")\n",
    "\n",
    "ax[1,0].plot(fpr2, tpr2, label='AUC = %0.2f' % auc3)\n",
    "ax[1,0].plot([0, 1], [0, 1], 'k--')\n",
    "ax[1,0].set_xlabel('False Positive Rate')\n",
    "ax[1,0].set_ylabel('True Positive Rate')\n",
    "ax[1,0].set_title('ROC for AdaBoost')\n",
    "ax[1,0].legend(loc=\"lower right\")\n",
    "\n",
    "ax[1,1].plot(fpr3, tpr3, label='AUC = %0.2f' % auc4)\n",
    "ax[1,1].plot([0, 1], [0, 1], 'k--')\n",
    "ax[1,1].set_xlabel('False Positive Rate')\n",
    "ax[1,1].set_ylabel('True Positive Rate')\n",
    "ax[1,1].set_title('ROC Gradient')\n",
    "ax[1,1].legend(loc=\"lower right\")\n",
    "\n",
    "\n",
    "plt.show()\n",
    "\n"
   ]
  },
  {
   "cell_type": "markdown",
   "metadata": {},
   "source": [
    "#### Comparining different models"
   ]
  },
  {
   "cell_type": "code",
   "execution_count": 49,
   "metadata": {},
   "outputs": [
    {
     "data": {
      "text/html": [
       "<div>\n",
       "<style scoped>\n",
       "    .dataframe tbody tr th:only-of-type {\n",
       "        vertical-align: middle;\n",
       "    }\n",
       "\n",
       "    .dataframe tbody tr th {\n",
       "        vertical-align: top;\n",
       "    }\n",
       "\n",
       "    .dataframe thead th {\n",
       "        text-align: right;\n",
       "    }\n",
       "</style>\n",
       "<table border=\"1\" class=\"dataframe\">\n",
       "  <thead>\n",
       "    <tr style=\"text-align: right;\">\n",
       "      <th></th>\n",
       "      <th>Training Accuracy</th>\n",
       "      <th>Testing Accuracy</th>\n",
       "      <th>Precision Score</th>\n",
       "      <th>F1Score</th>\n",
       "      <th>AUC</th>\n",
       "    </tr>\n",
       "  </thead>\n",
       "  <tbody>\n",
       "    <tr>\n",
       "      <td>Logistic Regression</td>\n",
       "      <td>0.892476</td>\n",
       "      <td>0.894428</td>\n",
       "      <td>0.659524</td>\n",
       "      <td>0.288241</td>\n",
       "      <td>0.599111</td>\n",
       "    </tr>\n",
       "    <tr>\n",
       "      <td>DecisionTrees</td>\n",
       "      <td>0.892343</td>\n",
       "      <td>0.895354</td>\n",
       "      <td>0.672170</td>\n",
       "      <td>0.295950</td>\n",
       "      <td>0.500000</td>\n",
       "    </tr>\n",
       "    <tr>\n",
       "      <td>RandomForest</td>\n",
       "      <td>0.999041</td>\n",
       "      <td>0.893425</td>\n",
       "      <td>0.606702</td>\n",
       "      <td>0.332528</td>\n",
       "      <td>0.680449</td>\n",
       "    </tr>\n",
       "    <tr>\n",
       "      <td>BaggingClassifier</td>\n",
       "      <td>0.891847</td>\n",
       "      <td>0.892422</td>\n",
       "      <td>0.700000</td>\n",
       "      <td>0.213318</td>\n",
       "      <td>0.632096</td>\n",
       "    </tr>\n",
       "    <tr>\n",
       "      <td>AdaBoost</td>\n",
       "      <td>0.893203</td>\n",
       "      <td>0.892962</td>\n",
       "      <td>0.684887</td>\n",
       "      <td>0.234970</td>\n",
       "      <td>0.677392</td>\n",
       "    </tr>\n",
       "    <tr>\n",
       "      <td>GradientBoosting</td>\n",
       "      <td>0.893369</td>\n",
       "      <td>0.893348</td>\n",
       "      <td>0.743902</td>\n",
       "      <td>0.209382</td>\n",
       "      <td>0.673036</td>\n",
       "    </tr>\n",
       "  </tbody>\n",
       "</table>\n",
       "</div>"
      ],
      "text/plain": [
       "                     Training Accuracy  Testing Accuracy  Precision Score  \\\n",
       "Logistic Regression           0.892476          0.894428         0.659524   \n",
       "DecisionTrees                 0.892343          0.895354         0.672170   \n",
       "RandomForest                  0.999041          0.893425         0.606702   \n",
       "BaggingClassifier             0.891847          0.892422         0.700000   \n",
       "AdaBoost                      0.893203          0.892962         0.684887   \n",
       "GradientBoosting              0.893369          0.893348         0.743902   \n",
       "\n",
       "                      F1Score       AUC  \n",
       "Logistic Regression  0.288241  0.599111  \n",
       "DecisionTrees        0.295950  0.500000  \n",
       "RandomForest         0.332528  0.680449  \n",
       "BaggingClassifier    0.213318  0.632096  \n",
       "AdaBoost             0.234970  0.677392  \n",
       "GradientBoosting     0.209382  0.673036  "
      ]
     },
     "execution_count": 49,
     "metadata": {},
     "output_type": "execute_result"
    }
   ],
   "source": [
    "df_compare = pd.DataFrame([[lr_training,lr_testing,lr_precision,lr_f1,lr_auc],[dt_training,dt_testing,dt_precision,dt_f1,dt_auc],\n",
    "                          [rf_training,rf_testing,rf_precision,rf_f1,auc1],[bg_training,bg_testing,bg_precision,bg_f1,auc2],\n",
    "                          [ada_training,ada_testing,ada_precision,ada_f1,auc3],[gbc_training,gbc_testing,gbc_precision,gbc_f1,auc4]],\n",
    "    columns=['Training Accuracy','Testing Accuracy','Precision Score','F1Score','AUC'],\n",
    "                       index=['Logistic Regression','DecisionTrees',\n",
    "                              'RandomForest','BaggingClassifier','AdaBoost','GradientBoosting'])\n",
    "df_compare"
   ]
  },
  {
   "cell_type": "markdown",
   "metadata": {},
   "source": [
    "#### Key Observations"
   ]
  },
  {
   "cell_type": "markdown",
   "metadata": {},
   "source": [
    "* As the dataset highly baised most of the algorithm are having training accuracy in range of (88-89.9)%.\n",
    "* All of the models are not trained equally to both set of classes(majority is class 0 as not accepting the term deposit). So     the models are performing well for class 0 ie not accepting the loan and not able to perform well on the positive class ie       class 1.This is the main reason for inferior precison as well as F1 scores.\n",
    "* Trianing accuracy of the models are somehow large than testing accuracy."
   ]
  },
  {
   "cell_type": "markdown",
   "metadata": {},
   "source": [
    "#### Some more observations"
   ]
  },
  {
   "cell_type": "markdown",
   "metadata": {},
   "source": [
    "* We cannot compare the models on the basis of high Accuracy,Presion or Recall score as it is a highly biased dataset.\n",
    "* Other metrics that can be used for comparision are - F1 Score , AUC .\n",
    "* Also according to the given context/ objective of the project it can be say that reducing the values of False Positve should     be given more importance.So it can also be one of the factors for comparision. \n"
   ]
  },
  {
   "cell_type": "code",
   "execution_count": 50,
   "metadata": {},
   "outputs": [
    {
     "data": {
      "text/plain": [
       "DecisionTrees          0.895354\n",
       "Logistic Regression    0.894428\n",
       "RandomForest           0.893425\n",
       "Name: Testing Accuracy, dtype: float64"
      ]
     },
     "execution_count": 50,
     "metadata": {},
     "output_type": "execute_result"
    }
   ],
   "source": [
    "# Top 3 models with Highest testing accuracy are - \n",
    "df_compare.sort_values(ascending=False,by=['Testing Accuracy'])['Testing Accuracy'].head(3)"
   ]
  },
  {
   "cell_type": "code",
   "execution_count": 51,
   "metadata": {},
   "outputs": [
    {
     "data": {
      "text/plain": [
       "RandomForest           0.332528\n",
       "DecisionTrees          0.295950\n",
       "Logistic Regression    0.288241\n",
       "Name: F1Score, dtype: float64"
      ]
     },
     "execution_count": 51,
     "metadata": {},
     "output_type": "execute_result"
    }
   ],
   "source": [
    "# Top 3 models with highest F1 Score are \n",
    "df_compare.sort_values(ascending=False,by=['F1Score'])['F1Score'].head(3)"
   ]
  },
  {
   "cell_type": "code",
   "execution_count": 52,
   "metadata": {},
   "outputs": [
    {
     "data": {
      "text/plain": [
       "RandomForest        0.680449\n",
       "AdaBoost            0.677392\n",
       "GradientBoosting    0.673036\n",
       "Name: AUC, dtype: float64"
      ]
     },
     "execution_count": 52,
     "metadata": {},
     "output_type": "execute_result"
    }
   ],
   "source": [
    "# Top 3 Models with highest AUC score\n",
    "df_compare.sort_values(ascending=False,by=['AUC'])['AUC'].head(3)"
   ]
  },
  {
   "cell_type": "code",
   "execution_count": 53,
   "metadata": {},
   "outputs": [
    {
     "name": "stdout",
     "output_type": "stream",
     "text": [
      "Gradient Boost Classifier\n",
      " [[11393    63]\n",
      " [ 1319   183]]\n",
      "Bagging Classifier \n",
      " [[11375    81]\n",
      " [ 1313   189]]\n",
      "AdaBoost Classifier\n",
      " [[11358    98]\n",
      " [ 1289   213]]\n",
      "Decision Tree Classifier \n",
      " [[11317   139]\n",
      " [ 1217   285]]\n",
      "Random Forest Classifier \n",
      " [[11233   223]\n",
      " [ 1158   344]]\n",
      "Logistic Regression \n",
      " [[11313   143]\n",
      " [ 1225   277]]\n"
     ]
    }
   ],
   "source": [
    "# Confusion Matrix of the models sorted according to False Postive scores in ascending order\n",
    "\n",
    "print(\"Gradient Boost Classifier\\n\",confusion_matrix(y_test, gbc_pred))\n",
    "print(\"Bagging Classifier \\n\",confusion_matrix(y_test, bg_pred))\n",
    "print(\"AdaBoost Classifier\\n\",confusion_matrix(y_test, ada_pred))\n",
    "print(\"Decision Tree Classifier \\n\",confusion_matrix(y_test, dt_pred))\n",
    "print(\"Random Forest Classifier \\n\",confusion_matrix(y_test, rf_pred))\n",
    "print(\"Logistic Regression \\n\",confusion_matrix(y_test, lr_pred))\n"
   ]
  },
  {
   "cell_type": "markdown",
   "metadata": {},
   "source": [
    "#### Conclusion"
   ]
  },
  {
   "cell_type": "markdown",
   "metadata": {},
   "source": [
    "* We cannot commnent on any one of the models as performing best than others ones, depending on the metrics such as \n",
    "  F1 Score  Random Forest has highest score, if we consider the AUC for comparision then GradientBoost & AdaBoost has             highest AUC value. GradientBoost also has less number of False positive compare to other models.\n",
    "* We can conclude that ensembles models are performing better than the single classification models.\n",
    "* We can improve the accuracy of the models if we can somehow balance the dataset using sampling techniques such as upsampling     and downsampling."
   ]
  }
 ],
 "metadata": {
  "kernelspec": {
   "display_name": "Python 3",
   "language": "python",
   "name": "python3"
  },
  "language_info": {
   "codemirror_mode": {
    "name": "ipython",
    "version": 3
   },
   "file_extension": ".py",
   "mimetype": "text/x-python",
   "name": "python",
   "nbconvert_exporter": "python",
   "pygments_lexer": "ipython3",
   "version": "3.7.4"
  }
 },
 "nbformat": 4,
 "nbformat_minor": 4
}
